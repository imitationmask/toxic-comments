{
 "cells": [
  {
   "cell_type": "code",
   "execution_count": 1,
   "id": "offensive-brand",
   "metadata": {},
   "outputs": [],
   "source": [
    "from module.preprocessor import Preprocessor"
   ]
  },
  {
   "cell_type": "code",
   "execution_count": 2,
   "id": "prostate-migration",
   "metadata": {},
   "outputs": [],
   "source": [
    "test_file = \"data/test.csv\"\n",
    "test_labels_file = \"data/test_labels.csv\"\n",
    "\n",
    "preprocessor = Preprocessor()\n",
    "test_df = preprocessor.read(test_file, test_labels_file)"
   ]
  },
  {
   "cell_type": "code",
   "execution_count": 3,
   "id": "divided-walker",
   "metadata": {},
   "outputs": [
    {
     "data": {
      "text/plain": [
       "(63978, 8)"
      ]
     },
     "execution_count": 3,
     "metadata": {},
     "output_type": "execute_result"
    }
   ],
   "source": [
    "test_df.shape"
   ]
  },
  {
   "cell_type": "code",
   "execution_count": 4,
   "id": "tracked-david",
   "metadata": {
    "scrolled": true
   },
   "outputs": [
    {
     "data": {
      "text/html": [
       "<div>\n",
       "<style scoped>\n",
       "    .dataframe tbody tr th:only-of-type {\n",
       "        vertical-align: middle;\n",
       "    }\n",
       "\n",
       "    .dataframe tbody tr th {\n",
       "        vertical-align: top;\n",
       "    }\n",
       "\n",
       "    .dataframe thead th {\n",
       "        text-align: right;\n",
       "    }\n",
       "</style>\n",
       "<table border=\"1\" class=\"dataframe\">\n",
       "  <thead>\n",
       "    <tr style=\"text-align: right;\">\n",
       "      <th></th>\n",
       "      <th>id</th>\n",
       "      <th>comment_text</th>\n",
       "      <th>toxic</th>\n",
       "      <th>severe_toxic</th>\n",
       "      <th>obscene</th>\n",
       "      <th>threat</th>\n",
       "      <th>insult</th>\n",
       "      <th>identity_hate</th>\n",
       "    </tr>\n",
       "  </thead>\n",
       "  <tbody>\n",
       "    <tr>\n",
       "      <th>0</th>\n",
       "      <td>0001ea8717f6de06</td>\n",
       "      <td>Thank you for understanding. I think very high...</td>\n",
       "      <td>0</td>\n",
       "      <td>0</td>\n",
       "      <td>0</td>\n",
       "      <td>0</td>\n",
       "      <td>0</td>\n",
       "      <td>0</td>\n",
       "    </tr>\n",
       "    <tr>\n",
       "      <th>1</th>\n",
       "      <td>000247e83dcc1211</td>\n",
       "      <td>:Dear god this site is horrible.</td>\n",
       "      <td>0</td>\n",
       "      <td>0</td>\n",
       "      <td>0</td>\n",
       "      <td>0</td>\n",
       "      <td>0</td>\n",
       "      <td>0</td>\n",
       "    </tr>\n",
       "    <tr>\n",
       "      <th>2</th>\n",
       "      <td>0002f87b16116a7f</td>\n",
       "      <td>\"::: Somebody will invariably try to add Relig...</td>\n",
       "      <td>0</td>\n",
       "      <td>0</td>\n",
       "      <td>0</td>\n",
       "      <td>0</td>\n",
       "      <td>0</td>\n",
       "      <td>0</td>\n",
       "    </tr>\n",
       "    <tr>\n",
       "      <th>3</th>\n",
       "      <td>0003e1cccfd5a40a</td>\n",
       "      <td>\" \n",
       "\n",
       " It says it right there that it IS a type....</td>\n",
       "      <td>0</td>\n",
       "      <td>0</td>\n",
       "      <td>0</td>\n",
       "      <td>0</td>\n",
       "      <td>0</td>\n",
       "      <td>0</td>\n",
       "    </tr>\n",
       "    <tr>\n",
       "      <th>4</th>\n",
       "      <td>00059ace3e3e9a53</td>\n",
       "      <td>\" \n",
       "\n",
       " == Before adding a new product to the lis...</td>\n",
       "      <td>0</td>\n",
       "      <td>0</td>\n",
       "      <td>0</td>\n",
       "      <td>0</td>\n",
       "      <td>0</td>\n",
       "      <td>0</td>\n",
       "    </tr>\n",
       "  </tbody>\n",
       "</table>\n",
       "</div>"
      ],
      "text/plain": [
       "                 id                                       comment_text toxic  \\\n",
       "0  0001ea8717f6de06  Thank you for understanding. I think very high...     0   \n",
       "1  000247e83dcc1211                   :Dear god this site is horrible.     0   \n",
       "2  0002f87b16116a7f  \"::: Somebody will invariably try to add Relig...     0   \n",
       "3  0003e1cccfd5a40a  \" \n",
       "\n",
       " It says it right there that it IS a type....     0   \n",
       "4  00059ace3e3e9a53  \" \n",
       "\n",
       " == Before adding a new product to the lis...     0   \n",
       "\n",
       "  severe_toxic obscene threat insult identity_hate  \n",
       "0            0       0      0      0             0  \n",
       "1            0       0      0      0             0  \n",
       "2            0       0      0      0             0  \n",
       "3            0       0      0      0             0  \n",
       "4            0       0      0      0             0  "
      ]
     },
     "execution_count": 4,
     "metadata": {},
     "output_type": "execute_result"
    }
   ],
   "source": [
    "test_df.head()"
   ]
  },
  {
   "cell_type": "code",
   "execution_count": 5,
   "id": "daily-improvement",
   "metadata": {},
   "outputs": [
    {
     "data": {
      "text/plain": [
       "0        Thank you for understanding. I think very high...\n",
       "1                         :Dear god this site is horrible.\n",
       "2        \"::: Somebody will invariably try to add Relig...\n",
       "3        \" \n",
       "\n",
       " It says it right there that it IS a type....\n",
       "4        \" \n",
       "\n",
       " == Before adding a new product to the lis...\n",
       "                               ...                        \n",
       "63973    :Jerome, I see you never got around to this…! ...\n",
       "63974    ==Lucky bastard== \n",
       " http://wikimediafoundation...\n",
       "63975    ==shame on you all!!!== \n",
       "\n",
       " You want to speak a...\n",
       "63976    MEL GIBSON IS A NAZI BITCH WHO MAKES SHITTY MO...\n",
       "63977    \" \n",
       "\n",
       " == Unicorn lair discovery == \n",
       "\n",
       " Supposedl...\n",
       "Name: comment_text, Length: 63978, dtype: string"
      ]
     },
     "execution_count": 5,
     "metadata": {},
     "output_type": "execute_result"
    }
   ],
   "source": [
    "preprocessor.X"
   ]
  },
  {
   "cell_type": "code",
   "execution_count": null,
   "id": "demonstrated-forestry",
   "metadata": {},
   "outputs": [],
   "source": []
  },
  {
   "cell_type": "code",
   "execution_count": null,
   "id": "critical-pressing",
   "metadata": {},
   "outputs": [],
   "source": []
  }
 ],
 "metadata": {
  "kernelspec": {
   "display_name": "Python 3",
   "language": "python",
   "name": "python3"
  },
  "language_info": {
   "codemirror_mode": {
    "name": "ipython",
    "version": 3
   },
   "file_extension": ".py",
   "mimetype": "text/x-python",
   "name": "python",
   "nbconvert_exporter": "python",
   "pygments_lexer": "ipython3",
   "version": "3.7.9"
  }
 },
 "nbformat": 4,
 "nbformat_minor": 5
}
